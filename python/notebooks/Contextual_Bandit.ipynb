{
 "cells": [
  {
   "cell_type": "code",
   "execution_count": 1,
   "metadata": {},
   "outputs": [],
   "source": [
    "import numpy as np\n",
    "import torch as th\n",
    "from torch.autograd import Variable\n",
    "import random\n",
    "from matplotlib import pyplot as plt"
   ]
  },
  {
   "cell_type": "code",
   "execution_count": 2,
   "metadata": {},
   "outputs": [],
   "source": [
    "class ContextBandit:\n",
    "  def __init__(self, state_size = 10, action_size = 10):\n",
    "    self.state_size = state_size\n",
    "    self.action_size = action_size\n",
    "    self.init_distribution_()\n",
    "    self.update_state_()\n",
    "\n",
    "  def get_state(self):\n",
    "    return self.state_idx\n",
    "\n",
    "  def choose_arm(self, arm):\n",
    "    reward = self.get_reward_(arm)\n",
    "    self.update_state_()\n",
    "    return reward\n",
    "\n",
    "  def init_distribution_(self):\n",
    "    self.mtx = np.random.rand(self.state_size, self.action_size)\n",
    "\n",
    "  def update_state_(self):\n",
    "    self.state_idx = np.random.randint(0, self.state_size)\n",
    "\n",
    "  def get_reward_(self, arm):\n",
    "    return self.reward_(self.mtx[self.get_state()][arm])\n",
    "\n",
    "  def reward_(self, prob):\n",
    "    reward = 0\n",
    "    # reward value from 0 to action_size based on arm probability\n",
    "    for i in range(self.action_size):\n",
    "      if random.random() < prob:\n",
    "        reward += 1\n",
    "    return reward"
   ]
  },
  {
   "cell_type": "code",
   "execution_count": 3,
   "metadata": {},
   "outputs": [],
   "source": [
    "# the model learns the function that maps state to the expected reward for each arm\n",
    "def bandit_model(state_size, action_size, hidden_dim = 100):\n",
    "  return th.nn.Sequential(\n",
    "    th.nn.Linear(state_size, hidden_dim),\n",
    "    th.nn.ReLU(),\n",
    "    th.nn.Linear(hidden_dim, action_size),\n",
    "    th.nn.ReLU()\n",
    "  )"
   ]
  },
  {
   "cell_type": "code",
   "execution_count": 4,
   "metadata": {},
   "outputs": [],
   "source": [
    "def softmax(av, tau=1.12):\n",
    "    n = len(av)\n",
    "    probs = np.zeros(n)\n",
    "    for i in range(n):\n",
    "        softm = ( np.exp(av[i] / tau) / np.sum( np.exp(av[:] / tau) ) )\n",
    "        probs[i] = softm\n",
    "    return probs\n",
    "\n",
    "def one_hot(N, pos, val=1):\n",
    "    one_hot_vec = np.zeros(N)\n",
    "    one_hot_vec[pos] = val\n",
    "    return one_hot_vec"
   ]
  },
  {
   "cell_type": "code",
   "execution_count": 14,
   "metadata": {},
   "outputs": [],
   "source": [
    "def train1(env, model, state_size, action_size, epochs = 5000, learning_rate=1e-2):\n",
    "  cur_state = Variable(th.Tensor(one_hot(state_size, env.get_state())))\n",
    "  optimizer = th.optim.Adam(model.parameters(), lr=learning_rate)\n",
    "  loss_fn = th.nn.MSELoss(size_average=False)\n",
    "  # fake running average\n",
    "  reward_hist = np.zeros(50)\n",
    "  reward_hist[:] = 5\n",
    "  plt.xlabel('Plays')\n",
    "  plt.ylabel('Avg Reward')\n",
    "  for i in range(epochs):\n",
    "    y_pred = model(cur_state)\n",
    "    y_softmax = softmax(y_pred.data.numpy(), tau=2.0)\n",
    "    y_softmax /= y_softmax.sum() #make sure it is summing up to 1\n",
    "    choice = np.random.choice(action_size, p=y_softmax) #random choice for exploration\n",
    "    cur_reward = env.choose_arm(choice)\n",
    "    one_hot_reward = y_pred.data.numpy().copy()\n",
    "    one_hot_reward[choice] = cur_reward #override the actual reward value for the arm chosen\n",
    "    reward = Variable(th.Tensor(one_hot_reward))\n",
    "    loss = loss_fn(y_pred, reward)\n",
    "    if i % 50 == 0:\n",
    "      ravg = np.average(reward_hist)\n",
    "      reward_hist[:] = 0\n",
    "      plt.scatter(i, ravg)\n",
    "    reward_hist[i % 50] = cur_reward\n",
    "    # we only learn it one step\n",
    "    optimizer.zero_grad()\n",
    "    loss.backward()\n",
    "    optimizer.step()\n",
    "    cur_state = Variable(th.Tensor(one_hot(state_size, env.get_state())))"
   ]
  },
  {
   "cell_type": "code",
   "execution_count": 15,
   "metadata": {},
   "outputs": [
    {
     "data": {
      "image/png": "[encoded data removed]",
      "text/plain": [
       "<Figure size 432x288 with 1 Axes>"
      ]
     },
     "metadata": {
      "needs_background": "light"
     },
     "output_type": "display_data"
    }
   ],
   "source": [
    "state_size = 20\n",
    "action_size = 10\n",
    "\n",
    "env = ContextBandit(state_size, action_size)\n",
    "model = bandit_model(state_size, action_size)\n",
    "train1(env, model, state_size, action_size)"
   ]
  }
 ],
 "metadata": {
  "kernelspec": {
   "display_name": "Python 3",
   "language": "python",
   "name": "python3"
  },
  "language_info": {
   "codemirror_mode": {
    "name": "ipython",
    "version": 3
   },
   "file_extension": ".py",
   "mimetype": "text/x-python",
   "name": "python",
   "nbconvert_exporter": "python",
   "pygments_lexer": "ipython3",
   "version": "3.7.4"
  }
 },
 "nbformat": 4,
 "nbformat_minor": 2
}
