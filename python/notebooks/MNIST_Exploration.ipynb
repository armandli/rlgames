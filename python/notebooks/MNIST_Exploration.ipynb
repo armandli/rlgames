{
 "cells": [
  {
   "cell_type": "code",
   "execution_count": 1,
   "metadata": {},
   "outputs": [],
   "source": [
    "import gzip\n",
    "import six.moves.cPickle as pickle\n",
    "import numpy as np\n",
    "from matplotlib import pyplot as plt"
   ]
  },
  {
   "cell_type": "code",
   "execution_count": 2,
   "metadata": {},
   "outputs": [],
   "source": [
    "def encode_label(j):\n",
    "  e = np.zeros((10, 1))\n",
    "  e[j] = 1.\n",
    "  return e"
   ]
  },
  {
   "cell_type": "code",
   "execution_count": 3,
   "metadata": {},
   "outputs": [],
   "source": [
    "def shape_data(data):\n",
    "  features = [np.reshape(x, (784, 1)) for x in data[0]]\n",
    "  labels = [encode_label(y) for y in data[1]]\n",
    "  return [o for o in zip(features, labels)]"
   ]
  },
  {
   "cell_type": "code",
   "execution_count": 4,
   "metadata": {},
   "outputs": [],
   "source": [
    "def load_data():\n",
    "  f = np.load('../../data/mnist.npz')\n",
    "  (x_train, y_train) = f['x_train'], f['y_train']\n",
    "  (x_test, y_test) = f['x_test'], f['y_test']\n",
    "  f.close()\n",
    "  return shape_data((x_train, y_train)), shape_data((x_test, y_test))"
   ]
  },
  {
   "cell_type": "code",
   "execution_count": 5,
   "metadata": {},
   "outputs": [],
   "source": [
    "#compute the average over data\n",
    "def average_digit(data, digit):\n",
    "  filtered = [x[0] for x in data if np.argmax(x[1]) == digit]\n",
    "  filtered_array = np.asarray(filtered)\n",
    "  return np.average(filtered_array, axis=0)"
   ]
  },
  {
   "cell_type": "code",
   "execution_count": 6,
   "metadata": {},
   "outputs": [
    {
     "data": {
      "image/png": "[encoded data removed]",
      "text/plain": [
       "<Figure size 432x288 with 1 Axes>"
      ]
     },
     "metadata": {
      "needs_background": "light"
     },
     "output_type": "display_data"
    }
   ],
   "source": [
    "train_data, test_data = load_data()\n",
    "avg_eight = average_digit(train_data, 8)\n",
    "img = (np.reshape(avg_eight, (28, 28)))\n",
    "plt.imshow(img)\n",
    "plt.show()"
   ]
  },
  {
   "cell_type": "code",
   "execution_count": 7,
   "metadata": {},
   "outputs": [],
   "source": [
    "def sigmoid_double(x):\n",
    "  return 1. / (1. + np.exp(-x))\n",
    "\n",
    "def sigmoid(z):\n",
    "  return np.vectorize(sigmoid_double)(z)"
   ]
  },
  {
   "cell_type": "code",
   "execution_count": 8,
   "metadata": {},
   "outputs": [
    {
     "name": "stdout",
     "output_type": "stream",
     "text": [
      "[[1.]]\n",
      "[[1.]]\n"
     ]
    }
   ],
   "source": [
    "def predict(x, W, b):\n",
    "  return sigmoid_double(np.dot(W, x) + b)\n",
    "\n",
    "w = np.transpose(avg_eight)\n",
    "b = -45\n",
    "\n",
    "x_3 = train_data[2][0]\n",
    "x_18 = train_data[17][0]\n",
    "\n",
    "print(predict(x_3, w, b))\n",
    "print(predict(x_18, w, b))"
   ]
  },
  {
   "cell_type": "code",
   "execution_count": 9,
   "metadata": {},
   "outputs": [],
   "source": [
    "def evaluate(data, digit, threshold, W, b):\n",
    "  total_samples = 1.* len(data)\n",
    "  correct_predictions = 0\n",
    "  for x in data:\n",
    "    if predict(x[0], W, b) > threshold and np.argmax(x[1]) == digit:\n",
    "      correct_predictions += 1\n",
    "    if predict(x[0], W, b) <= threshold and np.argmax(x[1]) != digit:\n",
    "      correct_predictions += 1\n",
    "  return correct_predictions / total_samples"
   ]
  },
  {
   "cell_type": "code",
   "execution_count": 10,
   "metadata": {},
   "outputs": [
    {
     "data": {
      "text/plain": [
       "0.09751666666666667"
      ]
     },
     "execution_count": 10,
     "metadata": {},
     "output_type": "execute_result"
    }
   ],
   "source": [
    "evaluate(train_data, 8, 0.5, w, b)"
   ]
  },
  {
   "cell_type": "code",
   "execution_count": 11,
   "metadata": {},
   "outputs": [
    {
     "data": {
      "text/plain": [
       "0.0974"
      ]
     },
     "execution_count": 11,
     "metadata": {},
     "output_type": "execute_result"
    }
   ],
   "source": [
    "evaluate(test_data, 8, 0.5, w, b)"
   ]
  },
  {
   "cell_type": "code",
   "execution_count": 12,
   "metadata": {},
   "outputs": [
    {
     "data": {
      "text/plain": [
       "1.0"
      ]
     },
     "execution_count": 12,
     "metadata": {},
     "output_type": "execute_result"
    }
   ],
   "source": [
    "eight_test = [x for x in test_data if np.argmax(x[1]) == 8]\n",
    "evaluate(eight_test, 8, 0.5, w, b)"
   ]
  }
 ],
 "metadata": {
  "kernelspec": {
   "display_name": "Python 3",
   "language": "python",
   "name": "python3"
  },
  "language_info": {
   "codemirror_mode": {
    "name": "ipython",
    "version": 3
   },
   "file_extension": ".py",
   "mimetype": "text/x-python",
   "name": "python",
   "nbconvert_exporter": "python",
   "pygments_lexer": "ipython3",
   "version": "3.7.3"
  }
 },
 "nbformat": 4,
 "nbformat_minor": 2
}
