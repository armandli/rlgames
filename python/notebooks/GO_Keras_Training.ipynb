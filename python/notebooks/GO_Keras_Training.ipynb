{
 "cells": [
  {
   "cell_type": "code",
   "execution_count": 1,
   "metadata": {},
   "outputs": [
    {
     "name": "stderr",
     "output_type": "stream",
     "text": [
      "Using TensorFlow backend.\n"
     ]
    }
   ],
   "source": [
    "import numpy as np\n",
    "from keras.models import Sequential\n",
    "from keras.layers import Dense"
   ]
  },
  {
   "cell_type": "code",
   "execution_count": 4,
   "metadata": {},
   "outputs": [],
   "source": [
    "np.random.seed(123)\n",
    "x = np.load('../../data/features-40k.npy')\n",
    "y = np.load('../../data/labels-40k.npy')\n",
    "samples = x.shape[0]\n",
    "board_size = 9 * 9\n",
    "\n",
    "X = x.reshape(samples, board_size)\n",
    "Y = y.reshape(samples, board_size)\n",
    "\n",
    "train_samples = int(0.9 * samples)\n",
    "X_train, X_test = X[:train_samples], X[train_samples:]\n",
    "Y_train, Y_test = Y[:train_samples], Y[train_samples:]"
   ]
  },
  {
   "cell_type": "code",
   "execution_count": 10,
   "metadata": {},
   "outputs": [
    {
     "name": "stdout",
     "output_type": "stream",
     "text": [
      "WARNING:tensorflow:From /usr/lib/python3.7/site-packages/tensorflow/python/framework/op_def_library.py:263: colocate_with (from tensorflow.python.framework.ops) is deprecated and will be removed in a future version.\n",
      "Instructions for updating:\n",
      "Colocations handled automatically by placer.\n",
      "_________________________________________________________________\n",
      "Layer (type)                 Output Shape              Param #   \n",
      "=================================================================\n",
      "dense_1 (Dense)              (None, 1000)              82000     \n",
      "_________________________________________________________________\n",
      "dense_2 (Dense)              (None, 500)               500500    \n",
      "_________________________________________________________________\n",
      "dense_3 (Dense)              (None, 81)                40581     \n",
      "=================================================================\n",
      "Total params: 623,081\n",
      "Trainable params: 623,081\n",
      "Non-trainable params: 0\n",
      "_________________________________________________________________\n"
     ]
    }
   ],
   "source": [
    "model = Sequential()\n",
    "model.add(Dense(1000, activation='sigmoid', input_shape=(board_size,)))\n",
    "model.add(Dense(500, activation='sigmoid'))\n",
    "model.add(Dense(board_size, activation='sigmoid'))\n",
    "model.summary()"
   ]
  },
  {
   "cell_type": "code",
   "execution_count": 12,
   "metadata": {},
   "outputs": [
    {
     "name": "stdout",
     "output_type": "stream",
     "text": [
      "Train on 37295 samples, validate on 4144 samples\n",
      "Epoch 1/15\n",
      "37295/37295 [==============================] - 4s 95us/step - loss: 0.0129 - acc: 0.0245 - val_loss: 0.0129 - val_acc: 0.0244\n",
      "Epoch 2/15\n",
      "37295/37295 [==============================] - 3s 86us/step - loss: 0.0129 - acc: 0.0247 - val_loss: 0.0128 - val_acc: 0.0239\n",
      "Epoch 3/15\n",
      "37295/37295 [==============================] - 3s 89us/step - loss: 0.0128 - acc: 0.0246 - val_loss: 0.0128 - val_acc: 0.0227\n",
      "Epoch 4/15\n",
      "37295/37295 [==============================] - 3s 88us/step - loss: 0.0127 - acc: 0.0249 - val_loss: 0.0127 - val_acc: 0.0232\n",
      "Epoch 5/15\n",
      "37295/37295 [==============================] - 3s 87us/step - loss: 0.0127 - acc: 0.0255 - val_loss: 0.0127 - val_acc: 0.0236\n",
      "Epoch 6/15\n",
      "37295/37295 [==============================] - 3s 90us/step - loss: 0.0127 - acc: 0.0256 - val_loss: 0.0126 - val_acc: 0.0246\n",
      "Epoch 7/15\n",
      "37295/37295 [==============================] - 3s 87us/step - loss: 0.0126 - acc: 0.0254 - val_loss: 0.0126 - val_acc: 0.0246\n",
      "Epoch 8/15\n",
      "37295/37295 [==============================] - 3s 89us/step - loss: 0.0126 - acc: 0.0260 - val_loss: 0.0126 - val_acc: 0.0253\n",
      "Epoch 9/15\n",
      "37295/37295 [==============================] - 3s 88us/step - loss: 0.0126 - acc: 0.0260 - val_loss: 0.0126 - val_acc: 0.0261\n",
      "Epoch 10/15\n",
      "37295/37295 [==============================] - 3s 93us/step - loss: 0.0125 - acc: 0.0262 - val_loss: 0.0125 - val_acc: 0.0258\n",
      "Epoch 11/15\n",
      "37295/37295 [==============================] - 4s 102us/step - loss: 0.0125 - acc: 0.0262 - val_loss: 0.0125 - val_acc: 0.0258\n",
      "Epoch 12/15\n",
      "37295/37295 [==============================] - 4s 97us/step - loss: 0.0125 - acc: 0.0263 - val_loss: 0.0125 - val_acc: 0.0265\n",
      "Epoch 13/15\n",
      "37295/37295 [==============================] - 3s 91us/step - loss: 0.0125 - acc: 0.0267 - val_loss: 0.0125 - val_acc: 0.0268\n",
      "Epoch 14/15\n",
      "37295/37295 [==============================] - 3s 88us/step - loss: 0.0125 - acc: 0.0268 - val_loss: 0.0125 - val_acc: 0.0275\n",
      "Epoch 15/15\n",
      "37295/37295 [==============================] - 4s 104us/step - loss: 0.0124 - acc: 0.0269 - val_loss: 0.0124 - val_acc: 0.0282\n",
      "Test Loss: 0.012438068885543172\n",
      "Test Accuracy: 0.028233590733590733\n"
     ]
    }
   ],
   "source": [
    "model.compile(loss='mean_squared_error', optimizer='sgd', metrics=['accuracy'])\n",
    "model.fit(X_train, Y_train, batch_size=64, epochs=15, verbose=1, validation_data=(X_test, Y_test))\n",
    "\n",
    "score = model.evaluate(X_test, Y_test, verbose=0)\n",
    "print('Test Loss:', score[0])\n",
    "print('Test Accuracy:', score[1])"
   ]
  },
  {
   "cell_type": "code",
   "execution_count": 13,
   "metadata": {},
   "outputs": [
    {
     "name": "stdout",
     "output_type": "stream",
     "text": [
      "0.025 0.026 0.027 0.026 0.028 0.027 0.027 0.026 0.025\n",
      "0.025 0.028 0.029 0.032 0.032 0.030 0.030 0.028 0.026\n",
      "0.027 0.030 0.025 0.034 0.031 0.033 0.027 0.029 0.026\n",
      "0.027 0.030 0.034 0.035 0.033 0.032 0.030 0.031 0.027\n",
      "0.029 0.032 0.035 0.031 0.033 0.031 0.034 0.031 0.028\n",
      "0.026 0.031 0.034 0.034 0.035 0.031 0.033 0.030 0.027\n",
      "0.025 0.029 0.026 0.034 0.033 0.034 0.026 0.029 0.026\n",
      "0.027 0.029 0.029 0.030 0.031 0.031 0.030 0.027 0.026\n",
      "0.025 0.025 0.026 0.026 0.028 0.027 0.026 0.026 0.025\n"
     ]
    }
   ],
   "source": [
    "test_board = np.array([[\n",
    "  0, 0, 0, 0, 0, 0, 0, 0, 0,\n",
    "  0, 0, 0, 0, 0, 0, 0, 0, 0,\n",
    "  0, 0, 0, 0, 0, 0, 0, 0, 0,\n",
    "  0, 1,-1, 1,-1, 0, 0, 0, 0,\n",
    "  0, 1,-1, 1,-1, 0, 0, 0, 0,\n",
    "  0, 0, 1,-1, 0, 0, 0, 0, 0,\n",
    "  0, 0, 0, 0, 0, 0, 0, 0, 0,\n",
    "  0, 0, 0, 0, 0, 0, 0, 0, 0,\n",
    "  0, 0, 0, 0, 0, 0, 0, 0, 0,\n",
    "]])\n",
    "move_probs = model.predict(test_board)[0]\n",
    "i = 0\n",
    "for row in range(9):\n",
    "  row_format = []\n",
    "  for col in range(9):\n",
    "    row_format.append('{:.3f}'.format(move_probs[i]))\n",
    "    i += 1\n",
    "  print(' '.join(row_format))"
   ]
  }
 ],
 "metadata": {
  "kernelspec": {
   "display_name": "Python 3",
   "language": "python",
   "name": "python3"
  },
  "language_info": {
   "codemirror_mode": {
    "name": "ipython",
    "version": 3
   },
   "file_extension": ".py",
   "mimetype": "text/x-python",
   "name": "python",
   "nbconvert_exporter": "python",
   "pygments_lexer": "ipython3",
   "version": "3.7.3"
  }
 },
 "nbformat": 4,
 "nbformat_minor": 2
}
