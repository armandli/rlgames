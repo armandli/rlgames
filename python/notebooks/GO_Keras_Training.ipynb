{
 "cells": [
  {
   "cell_type": "code",
   "execution_count": 1,
   "metadata": {},
   "outputs": [
    {
     "name": "stderr",
     "output_type": "stream",
     "text": [
      "Using TensorFlow backend.\n"
     ]
    }
   ],
   "source": [
    "import numpy as np\n",
    "from keras.models import Sequential\n",
    "from keras.layers import Dense"
   ]
  },
  {
   "cell_type": "code",
   "execution_count": 2,
   "metadata": {},
   "outputs": [],
   "source": [
    "np.random.seed(123)\n",
    "x = np.load('../../data/features-40k.npy')\n",
    "y = np.load('../../data/labels-40k.npy')\n",
    "samples = x.shape[0]\n",
    "board_size = 9 * 9\n",
    "\n",
    "X = x.reshape(samples, board_size)\n",
    "Y = y.reshape(samples, board_size)\n",
    "\n",
    "train_samples = int(0.9 * samples)\n",
    "X_train, X_test = X[:train_samples], X[train_samples:]\n",
    "Y_train, Y_test = Y[:train_samples], Y[train_samples:]"
   ]
  },
  {
   "cell_type": "code",
   "execution_count": 3,
   "metadata": {},
   "outputs": [
    {
     "name": "stdout",
     "output_type": "stream",
     "text": [
      "WARNING:tensorflow:From /usr/lib/python3.7/site-packages/tensorflow/python/framework/op_def_library.py:263: colocate_with (from tensorflow.python.framework.ops) is deprecated and will be removed in a future version.\n",
      "Instructions for updating:\n",
      "Colocations handled automatically by placer.\n",
      "_________________________________________________________________\n",
      "Layer (type)                 Output Shape              Param #   \n",
      "=================================================================\n",
      "dense_1 (Dense)              (None, 1000)              82000     \n",
      "_________________________________________________________________\n",
      "dense_2 (Dense)              (None, 500)               500500    \n",
      "_________________________________________________________________\n",
      "dense_3 (Dense)              (None, 81)                40581     \n",
      "=================================================================\n",
      "Total params: 623,081\n",
      "Trainable params: 623,081\n",
      "Non-trainable params: 0\n",
      "_________________________________________________________________\n"
     ]
    }
   ],
   "source": [
    "model = Sequential()\n",
    "model.add(Dense(1000, activation='sigmoid', input_shape=(board_size,)))\n",
    "model.add(Dense(500, activation='sigmoid'))\n",
    "model.add(Dense(board_size, activation='sigmoid'))\n",
    "model.summary()"
   ]
  },
  {
   "cell_type": "code",
   "execution_count": 4,
   "metadata": {},
   "outputs": [
    {
     "name": "stdout",
     "output_type": "stream",
     "text": [
      "WARNING:tensorflow:From /usr/lib/python3.7/site-packages/tensorflow/python/ops/math_ops.py:3066: to_int32 (from tensorflow.python.ops.math_ops) is deprecated and will be removed in a future version.\n",
      "Instructions for updating:\n",
      "Use tf.cast instead.\n",
      "Train on 37295 samples, validate on 4144 samples\n",
      "Epoch 1/15\n",
      "37295/37295 [==============================] - 4s 96us/step - loss: 0.1245 - acc: 0.0180 - val_loss: 0.0483 - val_acc: 0.0191\n",
      "Epoch 2/15\n",
      "37295/37295 [==============================] - 3s 87us/step - loss: 0.0341 - acc: 0.0180 - val_loss: 0.0259 - val_acc: 0.0191\n",
      "Epoch 3/15\n",
      "37295/37295 [==============================] - 3s 87us/step - loss: 0.0224 - acc: 0.0181 - val_loss: 0.0199 - val_acc: 0.0193\n",
      "Epoch 4/15\n",
      "37295/37295 [==============================] - 3s 88us/step - loss: 0.0185 - acc: 0.0187 - val_loss: 0.0174 - val_acc: 0.0198\n",
      "Epoch 5/15\n",
      "37295/37295 [==============================] - 3s 90us/step - loss: 0.0166 - acc: 0.0196 - val_loss: 0.0160 - val_acc: 0.0210\n",
      "Epoch 6/15\n",
      "37295/37295 [==============================] - 3s 91us/step - loss: 0.0155 - acc: 0.0212 - val_loss: 0.0151 - val_acc: 0.0210\n",
      "Epoch 7/15\n",
      "37295/37295 [==============================] - 3s 88us/step - loss: 0.0148 - acc: 0.0212 - val_loss: 0.0145 - val_acc: 0.0217\n",
      "Epoch 8/15\n",
      "37295/37295 [==============================] - 3s 89us/step - loss: 0.0143 - acc: 0.0209 - val_loss: 0.0141 - val_acc: 0.0234\n",
      "Epoch 9/15\n",
      "37295/37295 [==============================] - 3s 92us/step - loss: 0.0140 - acc: 0.0217 - val_loss: 0.0138 - val_acc: 0.0236\n",
      "Epoch 10/15\n",
      "37295/37295 [==============================] - 3s 88us/step - loss: 0.0137 - acc: 0.0220 - val_loss: 0.0136 - val_acc: 0.0232\n",
      "Epoch 11/15\n",
      "37295/37295 [==============================] - 3s 89us/step - loss: 0.0135 - acc: 0.0225 - val_loss: 0.0134 - val_acc: 0.0234\n",
      "Epoch 12/15\n",
      "37295/37295 [==============================] - 3s 89us/step - loss: 0.0133 - acc: 0.0228 - val_loss: 0.0133 - val_acc: 0.0234\n",
      "Epoch 13/15\n",
      "37295/37295 [==============================] - 3s 91us/step - loss: 0.0132 - acc: 0.0235 - val_loss: 0.0131 - val_acc: 0.0239\n",
      "Epoch 14/15\n",
      "37295/37295 [==============================] - 3s 89us/step - loss: 0.0131 - acc: 0.0247 - val_loss: 0.0130 - val_acc: 0.0246\n",
      "Epoch 15/15\n",
      "37295/37295 [==============================] - 3s 89us/step - loss: 0.0130 - acc: 0.0247 - val_loss: 0.0130 - val_acc: 0.0236\n",
      "Test Loss: 0.012954789627357799\n",
      "Test Accuracy: 0.02364864864864865\n"
     ]
    }
   ],
   "source": [
    "model.compile(loss='mean_squared_error', optimizer='sgd', metrics=['accuracy'])\n",
    "model.fit(X_train, Y_train, batch_size=64, epochs=15, verbose=1, validation_data=(X_test, Y_test))\n",
    "\n",
    "score = model.evaluate(X_test, Y_test, verbose=0)\n",
    "print('Test Loss:', score[0])\n",
    "print('Test Accuracy:', score[1])"
   ]
  },
  {
   "cell_type": "code",
   "execution_count": 5,
   "metadata": {},
   "outputs": [
    {
     "name": "stdout",
     "output_type": "stream",
     "text": [
      "0.037 0.037 0.038 0.037 0.040 0.038 0.039 0.038 0.036\n",
      "0.036 0.040 0.040 0.043 0.043 0.041 0.042 0.039 0.037\n",
      "0.039 0.042 0.034 0.046 0.042 0.044 0.039 0.041 0.038\n",
      "0.039 0.041 0.044 0.046 0.046 0.044 0.042 0.041 0.038\n",
      "0.042 0.044 0.047 0.041 0.045 0.042 0.045 0.042 0.040\n",
      "0.038 0.042 0.045 0.045 0.045 0.042 0.045 0.041 0.039\n",
      "0.036 0.040 0.037 0.045 0.042 0.045 0.037 0.040 0.037\n",
      "0.039 0.040 0.041 0.041 0.043 0.043 0.041 0.038 0.037\n",
      "0.036 0.037 0.038 0.037 0.040 0.039 0.037 0.039 0.037\n"
     ]
    }
   ],
   "source": [
    "test_board = np.array([[\n",
    "  0, 0, 0, 0, 0, 0, 0, 0, 0,\n",
    "  0, 0, 0, 0, 0, 0, 0, 0, 0,\n",
    "  0, 0, 0, 0, 0, 0, 0, 0, 0,\n",
    "  0, 1,-1, 1,-1, 0, 0, 0, 0,\n",
    "  0, 1,-1, 1,-1, 0, 0, 0, 0,\n",
    "  0, 0, 1,-1, 0, 0, 0, 0, 0,\n",
    "  0, 0, 0, 0, 0, 0, 0, 0, 0,\n",
    "  0, 0, 0, 0, 0, 0, 0, 0, 0,\n",
    "  0, 0, 0, 0, 0, 0, 0, 0, 0,\n",
    "]])\n",
    "move_probs = model.predict(test_board)[0]\n",
    "i = 0\n",
    "for row in range(9):\n",
    "  row_format = []\n",
    "  for col in range(9):\n",
    "    row_format.append('{:.3f}'.format(move_probs[i]))\n",
    "    i += 1\n",
    "  print(' '.join(row_format))"
   ]
  }
 ],
 "metadata": {
  "kernelspec": {
   "display_name": "Python 3",
   "language": "python",
   "name": "python3"
  },
  "language_info": {
   "codemirror_mode": {
    "name": "ipython",
    "version": 3
   },
   "file_extension": ".py",
   "mimetype": "text/x-python",
   "name": "python",
   "nbconvert_exporter": "python",
   "pygments_lexer": "ipython3",
   "version": "3.7.3"
  }
 },
 "nbformat": 4,
 "nbformat_minor": 2
}
