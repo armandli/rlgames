{
 "cells": [
  {
   "cell_type": "markdown",
   "metadata": {},
   "source": [
    "# Deep Reinforcement Learning _in Action_\n",
    "### Chapter 6\n",
    "#### Evolutionary Strategies"
   ]
  },
  {
   "cell_type": "code",
   "execution_count": 1,
   "metadata": {},
   "outputs": [],
   "source": [
    "import numpy as np\n",
    "import torch\n",
    "import torch.nn.functional as F\n",
    "import matplotlib.pyplot as plt\n",
    "import gym"
   ]
  },
  {
   "cell_type": "markdown",
   "metadata": {},
   "source": [
    "Creating an Agent"
   ]
  },
  {
   "cell_type": "code",
   "execution_count": 2,
   "metadata": {},
   "outputs": [],
   "source": [
    "env = gym.make('CartPole-v1')"
   ]
  },
  {
   "cell_type": "code",
   "execution_count": 3,
   "metadata": {},
   "outputs": [],
   "source": [
    "def init_random_agent_weights(state_space=4, action_space=2):\n",
    "    return [\n",
    "        torch.rand(state_space, 10), # fc1 weights\n",
    "        torch.rand(10),  # fc1 bias\n",
    "        torch.rand(10, 10),  # fc2 weights\n",
    "        torch.rand(10),  # fc2 bias\n",
    "        torch.rand(10, action_space),  # fc3 weights\n",
    "        torch.rand(action_space),  # fc3 bias\n",
    "    ]\n",
    "\n",
    "def get_action_from_agent_weights(agent_weight, state):\n",
    "    x = F.relu(torch.add(torch.mm(torch.Tensor(state.reshape(1,-1)), agent_weight[0]), agent_weight[1]))\n",
    "    x = F.relu(torch.add(torch.mm(x, agent_weight[2]), agent_weight[3]))\n",
    "    act_prob = F.softmax(torch.add(torch.mm(x, agent_weight[4]), agent_weight[5])).detach().numpy()[0]\n",
    "    action = np.random.choice(range(len(act_prob)), p=act_prob)\n",
    "    return action"
   ]
  },
  {
   "cell_type": "markdown",
   "metadata": {},
   "source": [
    "Determining the Agent Fitness"
   ]
  },
  {
   "cell_type": "code",
   "execution_count": 4,
   "metadata": {},
   "outputs": [],
   "source": [
    "def get_fitness(env, agent_weights, max_episode_length=500, trials=5):\n",
    "    total_reward = 0\n",
    "    for _ in range(trials):\n",
    "        observation = env.reset()\n",
    "        for i in range(max_episode_length):\n",
    "            action = get_action_from_agent_weights(agent_weights, observation)\n",
    "            observation, reward, done, info = env.step(action)\n",
    "            total_reward += reward\n",
    "            if done: break\n",
    "    return total_reward / trials\n"
   ]
  },
  {
   "cell_type": "markdown",
   "metadata": {},
   "source": [
    "Cross"
   ]
  },
  {
   "cell_type": "code",
   "execution_count": 5,
   "metadata": {},
   "outputs": [],
   "source": [
    "def cross(agent1_weights, agent2_weights):\n",
    "    num_params = len(agent1_weights)\n",
    "    crossover_idx = np.random.randint(0, num_params)\n",
    "    new_weights = agent1_weights[:crossover_idx] + agent2_weights[crossover_idx:]\n",
    "    new_weights = mutate(new_weights)\n",
    "    return new_weights"
   ]
  },
  {
   "cell_type": "markdown",
   "metadata": {},
   "source": [
    "Mutate"
   ]
  },
  {
   "cell_type": "code",
   "execution_count": 6,
   "metadata": {},
   "outputs": [],
   "source": [
    "def mutate(new_weights):\n",
    "    num_params = len(new_weights)\n",
    "    num_params_to_update = np.random.randint(0, num_params)  # num of params to change\n",
    "    for i in range(num_params_to_update):\n",
    "        n = np.random.randint(0, num_params)\n",
    "        new_weights[n] = new_weights[n] + torch.rand(new_weights[n].size())\n",
    "    return new_weights"
   ]
  },
  {
   "cell_type": "code",
   "execution_count": 7,
   "metadata": {},
   "outputs": [],
   "source": [
    "def breed(agent1_weights, agent2_weight, generation_size=10):\n",
    "    next_generation = [agent1_weights, agent2_weight]\n",
    "    for _ in range(generation_size - 2):\n",
    "        next_generation.append(cross(agent1_weights, agent2_weight))\n",
    "    return next_generation\n",
    "\n",
    "def reproduce(env, agents_weights, generation_size):\n",
    "    top_agents_weights = sorted(agents_weights, reverse=True, key=lambda a: get_fitness(env, a))[:2]\n",
    "    new_agents_weights = breed(top_agents_weights[0], top_agents_weights[1], generation_size)\n",
    "    return new_agents_weights"
   ]
  },
  {
   "cell_type": "code",
   "execution_count": 8,
   "metadata": {},
   "outputs": [
    {
     "name": "stderr",
     "output_type": "stream",
     "text": [
      "<ipython-input-3-c8dada1c6b4f>:14: UserWarning: Implicit dimension choice for softmax has been deprecated. Change the call to include dim=X as an argument.\n",
      "  act_prob = F.softmax(torch.add(torch.mm(x, agent_weight[4]), agent_weight[5])).detach().numpy()[0]\n"
     ]
    },
    {
     "name": "stdout",
     "output_type": "stream",
     "text": [
      "0 23.200000000000003\n",
      "1 34.6\n",
      "2 38.400000000000006\n",
      "3 31.299999999999997\n",
      "4 38.0\n",
      "5 28.3\n",
      "6 34.3\n",
      "7 32.0\n",
      "8 31.0\n",
      "9 56.099999999999994\n",
      "10 65.7\n",
      "11 59.2\n",
      "12 79.1\n",
      "13 80.2\n",
      "14 67.8\n",
      "15 56.3\n",
      "16 81.0\n",
      "17 83.6\n",
      "18 77.8\n",
      "19 80.8\n",
      "20 69.6\n",
      "21 102.0\n",
      "22 126.39999999999999\n",
      "23 117.6\n",
      "24 129.9\n",
      "25 128.0\n",
      "26 174.8\n",
      "27 185.6\n",
      "28 190.7\n",
      "29 291.6\n",
      "30 409.5\n",
      "31 500.0\n",
      "32 500.0\n",
      "33 500.0\n",
      "34 500.0\n",
      "35 500.0\n",
      "36 500.0\n",
      "37 500.0\n",
      "38 500.0\n",
      "39 500.0\n",
      "40 500.0\n",
      "41 500.0\n",
      "42 500.0\n",
      "43 500.0\n",
      "44 500.0\n",
      "45 500.0\n",
      "46 500.0\n",
      "47 500.0\n",
      "48 500.0\n",
      "49 500.0\n",
      "50 500.0\n",
      "51 500.0\n",
      "52 500.0\n",
      "53 500.0\n",
      "54 500.0\n",
      "55 500.0\n",
      "56 500.0\n",
      "57 500.0\n",
      "58 500.0\n",
      "59 500.0\n",
      "60 500.0\n",
      "61 500.0\n",
      "62 500.0\n",
      "63 500.0\n",
      "64 500.0\n",
      "65 500.0\n",
      "66 500.0\n",
      "67 500.0\n",
      "68 500.0\n",
      "69 500.0\n",
      "70 500.0\n",
      "71 500.0\n",
      "72 500.0\n",
      "73 500.0\n",
      "74 500.0\n",
      "75 500.0\n",
      "76 500.0\n",
      "77 500.0\n",
      "78 500.0\n",
      "79 500.0\n",
      "80 500.0\n",
      "81 500.0\n",
      "82 500.0\n",
      "83 500.0\n",
      "84 500.0\n",
      "85 500.0\n",
      "86 500.0\n",
      "87 500.0\n",
      "88 500.0\n",
      "89 500.0\n",
      "90 500.0\n",
      "91 500.0\n",
      "92 500.0\n",
      "93 500.0\n",
      "94 500.0\n",
      "95 500.0\n",
      "96 500.0\n",
      "97 500.0\n",
      "98 500.0\n",
      "99 500.0\n"
     ]
    }
   ],
   "source": [
    "n_generations = 100\n",
    "generation_size = 20\n",
    "generation_fitness = []\n",
    "max_fitness = 0\n",
    "\n",
    "agents = [init_random_agent_weights(), init_random_agent_weights()]\n",
    "\n",
    "for i in range(n_generations):\n",
    "    next_generation = reproduce(env, agents, generation_size)\n",
    "    ranked_generation = sorted([get_fitness(env, a) for a in next_generation], reverse=True)\n",
    "    avg_fitness = (ranked_generation[0] + ranked_generation[1]) / 2\n",
    "    print(i, avg_fitness)\n",
    "    generation_fitness.append(avg_fitness)\n",
    "    agents = next_generation"
   ]
  },
  {
   "cell_type": "markdown",
   "metadata": {},
   "source": [
    "### Plot loss"
   ]
  },
  {
   "cell_type": "code",
   "execution_count": 9,
   "metadata": {},
   "outputs": [
    {
     "data": {
      "text/plain": [
       "[<matplotlib.lines.Line2D at 0x7fe297ae1eb0>]"
      ]
     },
     "execution_count": 9,
     "metadata": {},
     "output_type": "execute_result"
    },
    {
     "data": {
      "image/png": "[encoded data removed]",
      "text/plain": [
       "<Figure size 720x432 with 1 Axes>"
      ]
     },
     "metadata": {
      "needs_background": "light"
     },
     "output_type": "display_data"
    }
   ],
   "source": [
    "plt.figure(figsize=(10,6))\n",
    "plt.ylabel(\"Avg Fitness of Parents\")\n",
    "plt.xlabel(\"Generation\")\n",
    "plt.plot(generation_fitness)"
   ]
  },
  {
   "cell_type": "markdown",
   "metadata": {},
   "source": [
    "### Test trained agent"
   ]
  },
  {
   "cell_type": "code",
   "execution_count": 10,
   "metadata": {},
   "outputs": [
    {
     "name": "stderr",
     "output_type": "stream",
     "text": [
      "<ipython-input-3-c8dada1c6b4f>:14: UserWarning: Implicit dimension choice for softmax has been deprecated. Change the call to include dim=X as an argument.\n",
      "  act_prob = F.softmax(torch.add(torch.mm(x, agent_weight[4]), agent_weight[5])).detach().numpy()[0]\n"
     ]
    }
   ],
   "source": [
    "state = torch.from_numpy(env.reset()).float()\n",
    "done = False\n",
    "for i in range(200):\n",
    "    action = get_action_from_agent_weights(agents[0],state)\n",
    "    state, reward, done, info = env.step(action)\n",
    "    state = torch.from_numpy(state).float()\n",
    "    if done:\n",
    "        print(\"Game over at time step {}\".format(i,))\n",
    "        break\n",
    "    env.render()\n",
    "env.close()"
   ]
  }
 ],
 "metadata": {
  "kernelspec": {
   "display_name": "Python 3",
   "language": "python",
   "name": "python3"
  },
  "language_info": {
   "codemirror_mode": {
    "name": "ipython",
    "version": 3
   },
   "file_extension": ".py",
   "mimetype": "text/x-python",
   "name": "python",
   "nbconvert_exporter": "python",
   "pygments_lexer": "ipython3",
   "version": "3.8.0"
  }
 },
 "nbformat": 4,
 "nbformat_minor": 2
}
