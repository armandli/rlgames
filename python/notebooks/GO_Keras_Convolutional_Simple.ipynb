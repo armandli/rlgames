{
 "cells": [
  {
   "cell_type": "code",
   "execution_count": 1,
   "metadata": {},
   "outputs": [
    {
     "name": "stderr",
     "output_type": "stream",
     "text": [
      "Using TensorFlow backend.\n"
     ]
    }
   ],
   "source": [
    "import numpy as np\n",
    "from keras.models import Sequential\n",
    "from keras.layers import Dense,Conv2D,Flatten"
   ]
  },
  {
   "cell_type": "code",
   "execution_count": 3,
   "metadata": {},
   "outputs": [],
   "source": [
    "np.random.seed(123)\n",
    "x = np.load('../../data/features-40k.npy')\n",
    "Y = np.load('../../data/labels-40k.npy')\n",
    "\n",
    "samples = x.shape[0]\n",
    "size = 9\n",
    "input_shape = (size, size, 1)\n",
    "\n",
    "X = x.reshape(samples, size, size, 1)\n",
    "\n",
    "train_samples = int(0.9 * samples)\n",
    "X_train, X_test = X[:train_samples], X[:train_samples]\n",
    "Y_train, Y_test = Y[:train_samples], Y[:train_samples]"
   ]
  },
  {
   "cell_type": "code",
   "execution_count": 4,
   "metadata": {},
   "outputs": [
    {
     "name": "stdout",
     "output_type": "stream",
     "text": [
      "WARNING:tensorflow:From /usr/lib/python3.7/site-packages/tensorflow/python/framework/op_def_library.py:263: colocate_with (from tensorflow.python.framework.ops) is deprecated and will be removed in a future version.\n",
      "Instructions for updating:\n",
      "Colocations handled automatically by placer.\n",
      "_________________________________________________________________\n",
      "Layer (type)                 Output Shape              Param #   \n",
      "=================================================================\n",
      "conv2d_1 (Conv2D)            (None, 9, 9, 48)          480       \n",
      "_________________________________________________________________\n",
      "conv2d_2 (Conv2D)            (None, 9, 9, 48)          20784     \n",
      "_________________________________________________________________\n",
      "flatten_1 (Flatten)          (None, 3888)              0         \n",
      "_________________________________________________________________\n",
      "dense_1 (Dense)              (None, 512)               1991168   \n",
      "_________________________________________________________________\n",
      "dense_2 (Dense)              (None, 81)                41553     \n",
      "=================================================================\n",
      "Total params: 2,053,985\n",
      "Trainable params: 2,053,985\n",
      "Non-trainable params: 0\n",
      "_________________________________________________________________\n"
     ]
    }
   ],
   "source": [
    "model = Sequential()\n",
    "model.add(Conv2D(filters=48, kernel_size=(3,3), activation='sigmoid', padding='same', input_shape=input_shape))\n",
    "model.add(Conv2D(48, (3,3), padding='same', activation='sigmoid'))\n",
    "model.add(Flatten())\n",
    "model.add(Dense(512, activation='sigmoid'))\n",
    "model.add(Dense(size * size, activation='sigmoid'))\n",
    "model.summary()"
   ]
  },
  {
   "cell_type": "code",
   "execution_count": 5,
   "metadata": {},
   "outputs": [
    {
     "name": "stdout",
     "output_type": "stream",
     "text": [
      "WARNING:tensorflow:From /usr/lib/python3.7/site-packages/tensorflow/python/ops/math_ops.py:3066: to_int32 (from tensorflow.python.ops.math_ops) is deprecated and will be removed in a future version.\n",
      "Instructions for updating:\n",
      "Use tf.cast instead.\n",
      "Train on 37295 samples, validate on 37295 samples\n",
      "Epoch 1/15\n",
      "37295/37295 [==============================] - 21s 563us/step - loss: 0.0860 - acc: 0.0130 - val_loss: 0.0319 - val_acc: 0.0130\n",
      "Epoch 2/15\n",
      "37295/37295 [==============================] - 21s 572us/step - loss: 0.0243 - acc: 0.0143 - val_loss: 0.0199 - val_acc: 0.0166\n",
      "Epoch 3/15\n",
      "37295/37295 [==============================] - 20s 534us/step - loss: 0.0180 - acc: 0.0163 - val_loss: 0.0166 - val_acc: 0.0192\n",
      "Epoch 4/15\n",
      "37295/37295 [==============================] - 20s 532us/step - loss: 0.0158 - acc: 0.0220 - val_loss: 0.0152 - val_acc: 0.0220\n",
      "Epoch 5/15\n",
      "37295/37295 [==============================] - 20s 534us/step - loss: 0.0147 - acc: 0.0219 - val_loss: 0.0144 - val_acc: 0.0218\n",
      "Epoch 6/15\n",
      "37295/37295 [==============================] - 20s 536us/step - loss: 0.0141 - acc: 0.0221 - val_loss: 0.0139 - val_acc: 0.0232\n",
      "Epoch 7/15\n",
      "37295/37295 [==============================] - 20s 533us/step - loss: 0.0137 - acc: 0.0227 - val_loss: 0.0135 - val_acc: 0.0239\n",
      "Epoch 8/15\n",
      "37295/37295 [==============================] - 20s 539us/step - loss: 0.0134 - acc: 0.0240 - val_loss: 0.0133 - val_acc: 0.0242\n",
      "Epoch 9/15\n",
      "37295/37295 [==============================] - 20s 535us/step - loss: 0.0132 - acc: 0.0241 - val_loss: 0.0131 - val_acc: 0.0249\n",
      "Epoch 10/15\n",
      "37295/37295 [==============================] - 20s 535us/step - loss: 0.0131 - acc: 0.0240 - val_loss: 0.0130 - val_acc: 0.0244\n",
      "Epoch 11/15\n",
      "37295/37295 [==============================] - 20s 532us/step - loss: 0.0129 - acc: 0.0240 - val_loss: 0.0129 - val_acc: 0.0242\n",
      "Epoch 12/15\n",
      "37295/37295 [==============================] - 20s 536us/step - loss: 0.0128 - acc: 0.0243 - val_loss: 0.0128 - val_acc: 0.0244\n",
      "Epoch 13/15\n",
      "37295/37295 [==============================] - 20s 537us/step - loss: 0.0128 - acc: 0.0242 - val_loss: 0.0127 - val_acc: 0.0243\n",
      "Epoch 14/15\n",
      "37295/37295 [==============================] - 20s 536us/step - loss: 0.0127 - acc: 0.0242 - val_loss: 0.0127 - val_acc: 0.0243\n",
      "Epoch 15/15\n",
      "37295/37295 [==============================] - 20s 541us/step - loss: 0.0127 - acc: 0.0242 - val_loss: 0.0126 - val_acc: 0.0244\n",
      "Test Loss: 0.012626496872765151\n",
      "Test Accuracy: 0.024426866872234883\n"
     ]
    }
   ],
   "source": [
    "model.compile(loss='mean_squared_error', optimizer='sgd', metrics=['accuracy'])\n",
    "model.fit(X_train, Y_train, batch_size=64, epochs=15, verbose=1, validation_data=(X_test, Y_test))\n",
    "\n",
    "score = model.evaluate(X_test, Y_test, verbose=0)\n",
    "print('Test Loss:', score[0])\n",
    "print('Test Accuracy:', score[1])"
   ]
  },
  {
   "cell_type": "code",
   "execution_count": null,
   "metadata": {},
   "outputs": [],
   "source": []
  }
 ],
 "metadata": {
  "kernelspec": {
   "display_name": "Python 3",
   "language": "python",
   "name": "python3"
  },
  "language_info": {
   "codemirror_mode": {
    "name": "ipython",
    "version": 3
   },
   "file_extension": ".py",
   "mimetype": "text/x-python",
   "name": "python",
   "nbconvert_exporter": "python",
   "pygments_lexer": "ipython3",
   "version": "3.7.3"
  }
 },
 "nbformat": 4,
 "nbformat_minor": 2
}
