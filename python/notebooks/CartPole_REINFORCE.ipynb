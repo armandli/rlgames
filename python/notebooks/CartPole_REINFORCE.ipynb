{
 "cells": [
  {
   "cell_type": "markdown",
   "metadata": {},
   "source": [
    "# Deep Reinforcement Learning <em> in Action </em> \n",
    "## Ch. 4 - Policy Gradients"
   ]
  },
  {
   "cell_type": "code",
   "execution_count": 1,
   "metadata": {},
   "outputs": [],
   "source": [
    "import gym\n",
    "import numpy as np\n",
    "import torch\n",
    "from matplotlib import pylab as plt"
   ]
  },
  {
   "cell_type": "markdown",
   "metadata": {},
   "source": [
    "#### Helper functions"
   ]
  },
  {
   "cell_type": "code",
   "execution_count": 2,
   "metadata": {},
   "outputs": [],
   "source": [
    "def running_mean(x, N=50):\n",
    "    cumsum = np.cumsum(np.insert(x, 0, 0)) \n",
    "    return (cumsum[N:] - cumsum[:-N]) / float(N)"
   ]
  },
  {
   "cell_type": "markdown",
   "metadata": {},
   "source": [
    "#### Defining Network"
   ]
  },
  {
   "cell_type": "code",
   "execution_count": 3,
   "metadata": {},
   "outputs": [],
   "source": [
    "l1 = 4\n",
    "l2 = 150\n",
    "l3 = 2\n",
    "\n",
    "model = torch.nn.Sequential(\n",
    "    torch.nn.Linear(l1, l2),\n",
    "    torch.nn.LeakyReLU(),\n",
    "    torch.nn.Linear(l2, l3),\n",
    "    torch.nn.Softmax()\n",
    ")\n",
    "\n",
    "learning_rate = 0.0009\n",
    "optimizer = torch.optim.Adam(model.parameters(), lr=learning_rate)"
   ]
  },
  {
   "cell_type": "markdown",
   "metadata": {},
   "source": [
    "#### Objective Function"
   ]
  },
  {
   "cell_type": "code",
   "execution_count": 4,
   "metadata": {},
   "outputs": [],
   "source": [
    "def loss_fn(preds, r): \n",
    "    # pred is output from neural network, a is action index\n",
    "    # r is return (sum of rewards to end of episode), d is discount factor\n",
    "    return -torch.sum(r * torch.log(preds)) # element-wise multipliy, then sum"
   ]
  },
  {
   "cell_type": "markdown",
   "metadata": {},
   "source": [
    "#### Training Loop"
   ]
  },
  {
   "cell_type": "code",
   "execution_count": 5,
   "metadata": {
    "scrolled": true
   },
   "outputs": [
    {
     "name": "stderr",
     "output_type": "stream",
     "text": [
      "/usr/lib/python3.7/site-packages/torch/nn/modules/container.py:92: UserWarning: Implicit dimension choice for softmax has been deprecated. Change the call to include dim=X as an argument.\n",
      "  input = module(input)\n"
     ]
    }
   ],
   "source": [
    "env = gym.make('CartPole-v0')\n",
    "MAX_DUR = 200\n",
    "MAX_EPISODES = 500\n",
    "gamma_ = 0.99\n",
    "time_steps = []\n",
    "for episode in range(MAX_EPISODES):\n",
    "    curr_state = env.reset()\n",
    "    done = False\n",
    "    transitions = [] # list of state, action, rewards\n",
    "    \n",
    "    for t in range(MAX_DUR): #while in episode\n",
    "        act_prob = model(torch.from_numpy(curr_state).float())\n",
    "        action = np.random.choice(np.array([0,1]), p=act_prob.data.numpy())\n",
    "        prev_state = curr_state\n",
    "        curr_state, reward, done, info = env.step(action)\n",
    "        transitions.append((prev_state, action, reward))\n",
    "        if done:\n",
    "            break\n",
    "\n",
    "    # Optimize policy network with full episode\n",
    "    ep_len = len(transitions) # episode length\n",
    "    time_steps.append(ep_len)\n",
    "    preds = torch.zeros(ep_len)\n",
    "    discounted_rewards = torch.zeros(ep_len)\n",
    "    for i in range(ep_len): #for each step in episode\n",
    "        discount = 1\n",
    "        future_reward = 0\n",
    "        # discount rewards\n",
    "        for i2 in range(i, ep_len):\n",
    "            future_reward += transitions[i2][2] * discount\n",
    "            discount = discount * gamma_\n",
    "        discounted_rewards[i] = future_reward\n",
    "        state, action, _ = transitions[i]\n",
    "        pred = model(torch.from_numpy(state).float())\n",
    "        preds[i] = pred[action]\n",
    "    loss = loss_fn(preds, discounted_rewards)\n",
    "    optimizer.zero_grad()\n",
    "    loss.backward()\n",
    "    optimizer.step()\n",
    "        \n",
    "env.close()"
   ]
  },
  {
   "cell_type": "code",
   "execution_count": 6,
   "metadata": {},
   "outputs": [
    {
     "data": {
      "text/plain": [
       "[<matplotlib.lines.Line2D at 0x7f06e7a93b90>]"
      ]
     },
     "execution_count": 6,
     "metadata": {},
     "output_type": "execute_result"
    },
    {
     "data": {
      "image/png": "[encoded data removed]",
      "text/plain": [
       "<Figure size 720x504 with 1 Axes>"
      ]
     },
     "metadata": {
      "needs_background": "light"
     },
     "output_type": "display_data"
    }
   ],
   "source": [
    "plt.figure(figsize=(10,7))\n",
    "plt.ylabel(\"Duration\")\n",
    "plt.xlabel(\"Episode\")\n",
    "plt.plot(running_mean(time_steps, 50), color='green')"
   ]
  }
 ],
 "metadata": {
  "kernelspec": {
   "display_name": "Python 3",
   "language": "python",
   "name": "python3"
  },
  "language_info": {
   "codemirror_mode": {
    "name": "ipython",
    "version": 3
   },
   "file_extension": ".py",
   "mimetype": "text/x-python",
   "name": "python",
   "nbconvert_exporter": "python",
   "pygments_lexer": "ipython3",
   "version": "3.7.4"
  }
 },
 "nbformat": 4,
 "nbformat_minor": 2
}
